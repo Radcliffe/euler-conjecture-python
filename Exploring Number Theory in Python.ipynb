{
 "cells": [
  {
   "cell_type": "markdown",
   "id": "a855f836",
   "metadata": {
    "slideshow": {
     "slide_type": "notes"
    }
   },
   "source": [
    "Context: The Pythagorean theorem\n",
    "  \n",
    "If $a$, $b$, $c$ are the sides of a right triangle with longest side $c$ then\n",
    "$a^2 + b^2 = c^2$.\n",
    "\n",
    "This theorem is attributed to the Greek mathematician Pythagoras, who was born around 570 BC,\n",
    "but it was also known by mathematicians in Mesopotamia, China, and India.\n",
    "\n",
    "The equation has infinitely many solutions in positive integers. Euclid discovered how to generate\n",
    "all integer solutions. (Euclid's Elements, c. 300 BC)"
   ]
  },
  {
   "cell_type": "code",
   "execution_count": 9,
   "id": "fba21104",
   "metadata": {
    "slideshow": {
     "slide_type": "notes"
    }
   },
   "outputs": [
    {
     "name": "stdout",
     "output_type": "stream",
     "text": [
      "(3, 4, 5)\n",
      "(5, 12, 13)\n",
      "(15, 8, 17)\n",
      "(7, 24, 25)\n",
      "(21, 20, 29)\n",
      "(9, 40, 41)\n",
      "(35, 12, 37)\n",
      "(11, 60, 61)\n",
      "(45, 28, 53)\n",
      "(33, 56, 65)\n",
      "(13, 84, 85)\n",
      "(63, 16, 65)\n",
      "(55, 48, 73)\n",
      "(39, 80, 89)\n",
      "(15, 112, 113)\n",
      "(77, 36, 85)\n",
      "(65, 72, 97)\n",
      "(17, 144, 145)\n"
     ]
    }
   ],
   "source": [
    "from math import gcd\n",
    "\n",
    "def generate_primitive_pythagorean_triples(N):\n",
    "    for m in range(2, N):\n",
    "        for n in range(1 + (m % 2), m, 2):\n",
    "            if gcd(m, n) == 1:\n",
    "                a = (m * m) - (n * n)\n",
    "                b = 2 * m * n\n",
    "                c = (m * m) + (n * n)\n",
    "                yield (a, b, c)\n",
    "\n",
    "for triple in generate_primitive_pythagorean_triples(10):\n",
    "    print(triple)"
   ]
  },
  {
   "cell_type": "markdown",
   "id": "6712f781",
   "metadata": {
    "slideshow": {
     "slide_type": "notes"
    }
   },
   "source": [
    "Fermat's conjecture (1637): The equation $a^n + b^n = c^n$ has no solutions in positive integers when $n \\ge 3$.\n",
    "\n",
    "Fermat claimed to have found a proof, but he never wrote it down. It was finally proved in 1994 by Andrew Wiles, a British mathematician."
   ]
  },
  {
   "cell_type": "markdown",
   "id": "f16565ee",
   "metadata": {
    "slideshow": {
     "slide_type": "slide"
    }
   },
   "source": [
    "<img src=\"euler-conj.png\" width=\"1200\">"
   ]
  },
  {
   "cell_type": "code",
   "execution_count": 13,
   "id": "781d0a66",
   "metadata": {
    "slideshow": {
     "slide_type": "slide"
    }
   },
   "outputs": [],
   "source": [
    "def find_solutions():\n",
    "    solutions = []\n",
    "    for a in range(1, 200):\n",
    "        for b in range(1, 200):\n",
    "            for c in range(1, 200):\n",
    "                for d in range(1, 200):\n",
    "                    e = (a**5 + b**5 + c**5 + d**5)**(1/5)\n",
    "                    if e.is_integer() and 1 <= e < 200:\n",
    "                        solutions.append((a, b, c, d, int(e)))\n",
    "    return solutions"
   ]
  },
  {
   "cell_type": "code",
   "execution_count": 47,
   "id": "13a883b5",
   "metadata": {
    "slideshow": {
     "slide_type": "slide"
    }
   },
   "outputs": [],
   "source": [
    "# 1. Use integer arithmetic instead of floating point!\n",
    "\n",
    "from sympy import integer_nthroot\n",
    "\n",
    "def find_solutions():\n",
    "    solutions = []\n",
    "    for a in range(1, 200):\n",
    "        for b in range(1, 200):\n",
    "            for c in range(1, 200):\n",
    "                for d in range(1, 200):\n",
    "                    e = a**5 + b**5 + c**5 + d**5\n",
    "                    root, is_exact = integer_nthroot(e, 5)\n",
    "                    if is_exact and 1 <= root < 200:\n",
    "                        solutions.append((a, b, c, d, root))\n",
    "    return solutions"
   ]
  },
  {
   "cell_type": "code",
   "execution_count": 20,
   "id": "a900373d",
   "metadata": {
    "slideshow": {
     "slide_type": "slide"
    }
   },
   "outputs": [],
   "source": [
    "# 2. Take advantage of symmetry.\n",
    "\n",
    "from sympy import integer_nthroot\n",
    "\n",
    "def find_solutions():\n",
    "    solutions = []\n",
    "    for a in range(1, 200):\n",
    "        for b in range(a, 200):\n",
    "            for c in range(b, 200):\n",
    "                for d in range(c, 200):\n",
    "                    e = a**5 + b**5 + c**5 + d**5\n",
    "                    root, is_exact = integer_nthroot(e, 5)\n",
    "                    if is_exact and 1 <= root < 200:\n",
    "                        solutions.append((a, b, c, d, root))\n",
    "    return solutions"
   ]
  },
  {
   "cell_type": "code",
   "execution_count": 21,
   "id": "8d1645ed",
   "metadata": {
    "slideshow": {
     "slide_type": "slide"
    }
   },
   "outputs": [],
   "source": [
    "# 3. Use itertools.\n",
    "\n",
    "from itertools import combinations_with_replacement\n",
    "from sympy import integer_nthroot\n",
    "\n",
    "def find_solutions():\n",
    "    solutions = []\n",
    "    for combination in combinations_with_replacement(range(1, 200), 4):\n",
    "        a, b, c, d = combination\n",
    "        e = a**5 + b**5 + c**5 + d**5\n",
    "        root, is_exact = integer_nthroot(e, 5)\n",
    "        if is_exact and 1 <= root < 200:\n",
    "            solutions.append((a, b, c, d, root))\n",
    "    return solutions"
   ]
  },
  {
   "cell_type": "code",
   "execution_count": 35,
   "id": "181a2b79",
   "metadata": {
    "slideshow": {
     "slide_type": "slide"
    }
   },
   "outputs": [],
   "source": [
    "# 4. Pre-compute fifth powers\n",
    "\n",
    "def find_solutions(N): \n",
    "    fifth_powers = {k**5 : k for k in range(1, N)}\n",
    "    solutions = []\n",
    "    for a, b, c, d in combinations_with_replacement(fifth_powers, 4):\n",
    "        e = a + b + c + d\n",
    "        if e in fifth_powers:\n",
    "            solutions.append((fifth_powers[a], fifth_powers[b], fifth_powers[c],\n",
    "                              fifth_powers[d], fifth_powers[e]))\n",
    "    return solutions"
   ]
  },
  {
   "cell_type": "code",
   "execution_count": 38,
   "id": "f67fc9db",
   "metadata": {
    "slideshow": {
     "slide_type": "fragment"
    }
   },
   "outputs": [
    {
     "name": "stdout",
     "output_type": "stream",
     "text": [
      "CPU times: user 9.15 s, sys: 15.8 ms, total: 9.16 s\n",
      "Wall time: 9.16 s\n"
     ]
    },
    {
     "data": {
      "text/plain": [
       "[(27, 84, 110, 133, 144)]"
      ]
     },
     "execution_count": 38,
     "metadata": {},
     "output_type": "execute_result"
    }
   ],
   "source": [
    "%time find_solutions(200)"
   ]
  },
  {
   "cell_type": "code",
   "execution_count": 45,
   "id": "b8c61772",
   "metadata": {
    "slideshow": {
     "slide_type": "slide"
    }
   },
   "outputs": [],
   "source": [
    "# 5. Pre-compute values of a^5 + b^5\n",
    "from math import gcd\n",
    "\n",
    "def find_solutions(N):\n",
    "    lookup = {a**5 + b**5 : (a, b) \n",
    "          for a in range(1, N)\n",
    "          for b in range(a, N)}\n",
    "    S = sorted(lookup)\n",
    "    solutions = []\n",
    "    for e in range(1, N):\n",
    "        e5 = e ** 5\n",
    "        halfway = e5 // 2\n",
    "        for s in S:\n",
    "            if s > halfway:\n",
    "                break\n",
    "            if (e5 - s) in lookup:\n",
    "                a, b = lookup[s]\n",
    "                c, d = lookup[e5 - s]\n",
    "                if b < c and gcd(a, b, c, d) == 1:\n",
    "                    solutions.append((a, b, c, d, e))\n",
    "    return solutions    "
   ]
  },
  {
   "cell_type": "code",
   "execution_count": 46,
   "id": "a80840dd",
   "metadata": {
    "slideshow": {
     "slide_type": "fragment"
    }
   },
   "outputs": [
    {
     "name": "stdout",
     "output_type": "stream",
     "text": [
      "CPU times: user 143 ms, sys: 3.09 ms, total: 146 ms\n",
      "Wall time: 145 ms\n"
     ]
    },
    {
     "data": {
      "text/plain": [
       "[(27, 84, 110, 133, 144)]"
      ]
     },
     "execution_count": 46,
     "metadata": {},
     "output_type": "execute_result"
    }
   ],
   "source": [
    "%time find_solutions(200)"
   ]
  },
  {
   "cell_type": "markdown",
   "id": "2ecb2118",
   "metadata": {
    "slideshow": {
     "slide_type": "slide"
    }
   },
   "source": [
    "Lesson:\n",
    "\n",
    "1. Avoid floating point\n",
    "2. Take advantage of symmetry\n",
    "3. Avoid repeating the same calculation"
   ]
  }
 ],
 "metadata": {
  "celltoolbar": "Slideshow",
  "kernelspec": {
   "display_name": "Python 3 (ipykernel)",
   "language": "python",
   "name": "python3"
  },
  "language_info": {
   "codemirror_mode": {
    "name": "ipython",
    "version": 3
   },
   "file_extension": ".py",
   "mimetype": "text/x-python",
   "name": "python",
   "nbconvert_exporter": "python",
   "pygments_lexer": "ipython3",
   "version": "3.10.6"
  }
 },
 "nbformat": 4,
 "nbformat_minor": 5
}
